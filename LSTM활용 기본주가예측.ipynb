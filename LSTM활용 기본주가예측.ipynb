{
 "cells": [
  {
   "cell_type": "code",
   "execution_count": 1,
   "metadata": {},
   "outputs": [
    {
     "name": "stderr",
     "output_type": "stream",
     "text": [
      "\n",
      "[notice] A new release of pip available: 22.3.1 -> 23.2.1\n",
      "[notice] To update, run: python.exe -m pip install --upgrade pip\n"
     ]
    },
    {
     "name": "stdout",
     "output_type": "stream",
     "text": [
      "Collecting finance-datareader\n",
      "  Downloading finance_datareader-0.9.50-py3-none-any.whl (19 kB)\n",
      "Collecting requests-file\n",
      "  Downloading requests_file-1.5.1-py2.py3-none-any.whl (3.7 kB)\n",
      "Collecting lxml\n",
      "  Downloading lxml-4.9.3-cp310-cp310-win_amd64.whl (3.8 MB)\n",
      "     ---------------------------------------- 3.8/3.8 MB 2.8 MB/s eta 0:00:00\n",
      "Requirement already satisfied: pandas>=0.19.2 in c:\\users\\user\\appdata\\local\\programs\\python\\python310\\lib\\site-packages (from finance-datareader) (1.4.2)\n",
      "Requirement already satisfied: requests>=2.3.0 in c:\\users\\user\\appdata\\local\\programs\\python\\python310\\lib\\site-packages (from finance-datareader) (2.27.1)\n",
      "Requirement already satisfied: tqdm in c:\\users\\user\\appdata\\local\\programs\\python\\python310\\lib\\site-packages (from finance-datareader) (4.64.0)\n",
      "Requirement already satisfied: numpy>=1.21.0 in c:\\users\\user\\appdata\\roaming\\python\\python310\\site-packages (from pandas>=0.19.2->finance-datareader) (1.24.2)\n",
      "Requirement already satisfied: pytz>=2020.1 in c:\\users\\user\\appdata\\local\\programs\\python\\python310\\lib\\site-packages (from pandas>=0.19.2->finance-datareader) (2022.1)\n",
      "Requirement already satisfied: python-dateutil>=2.8.1 in c:\\users\\user\\appdata\\local\\programs\\python\\python310\\lib\\site-packages (from pandas>=0.19.2->finance-datareader) (2.8.2)\n",
      "Requirement already satisfied: charset-normalizer~=2.0.0 in c:\\users\\user\\appdata\\local\\programs\\python\\python310\\lib\\site-packages (from requests>=2.3.0->finance-datareader) (2.0.12)\n",
      "Requirement already satisfied: certifi>=2017.4.17 in c:\\users\\user\\appdata\\local\\programs\\python\\python310\\lib\\site-packages (from requests>=2.3.0->finance-datareader) (2021.10.8)\n",
      "Requirement already satisfied: urllib3<1.27,>=1.21.1 in c:\\users\\user\\appdata\\local\\programs\\python\\python310\\lib\\site-packages (from requests>=2.3.0->finance-datareader) (1.26.9)\n",
      "Requirement already satisfied: idna<4,>=2.5 in c:\\users\\user\\appdata\\local\\programs\\python\\python310\\lib\\site-packages (from requests>=2.3.0->finance-datareader) (3.3)\n",
      "Requirement already satisfied: six in c:\\users\\user\\appdata\\local\\programs\\python\\python310\\lib\\site-packages (from requests-file->finance-datareader) (1.16.0)\n",
      "Requirement already satisfied: colorama in c:\\users\\user\\appdata\\local\\programs\\python\\python310\\lib\\site-packages (from tqdm->finance-datareader) (0.4.4)\n",
      "Installing collected packages: lxml, requests-file, finance-datareader\n",
      "Successfully installed finance-datareader-0.9.50 lxml-4.9.3 requests-file-1.5.1\n"
     ]
    }
   ],
   "source": [
    "!pip install -U finance-datareader\n",
    "# 주가 불러오는 라이브러리\n",
    "import FinanceDataReader as fdr\n",
    "import numpy as np\n",
    "import matplotlib.pyplot as plt"
   ]
  },
  {
   "cell_type": "code",
   "execution_count": 2,
   "metadata": {},
   "outputs": [],
   "source": [
    "# 삼성전자 종목에 대한 데이터를 2018년 5월 4일부터 2020년 1월 22일까지 로드\n",
    "df = fdr.DataReader('005930', '2018-05-04', '2020-01-22')"
   ]
  },
  {
   "cell_type": "code",
   "execution_count": 3,
   "metadata": {},
   "outputs": [
    {
     "data": {
      "text/plain": [
       "(421, 6)"
      ]
     },
     "execution_count": 3,
     "metadata": {},
     "output_type": "execute_result"
    }
   ],
   "source": [
    "df.shape"
   ]
  },
  {
   "cell_type": "code",
   "execution_count": 4,
   "metadata": {},
   "outputs": [],
   "source": [
    "def MinMaxScaler(data):\n",
    "    numerator = data - np.min(data, 0)\n",
    "    denominator = np.max(data, 0) - np.min(data, 0)\n",
    "    # 0으로 나누기 에러가 발생하지 않도록 매우 작은 값(1e-7)을 더해서 나눔\n",
    "    return numerator / (denominator + 1e-7)"
   ]
  },
  {
   "cell_type": "code",
   "execution_count": 5,
   "metadata": {},
   "outputs": [],
   "source": [
    "dfx = df[['Open','High','Low','Volume', 'Close']]\n",
    "dfx = MinMaxScaler(dfx)\n",
    "dfy = dfx[['Close']]\n",
    "dfx = dfx[['Open','High','Low','Volume']]"
   ]
  },
  {
   "cell_type": "code",
   "execution_count": 6,
   "metadata": {},
   "outputs": [
    {
     "data": {
      "text/html": [
       "<div>\n",
       "<style scoped>\n",
       "    .dataframe tbody tr th:only-of-type {\n",
       "        vertical-align: middle;\n",
       "    }\n",
       "\n",
       "    .dataframe tbody tr th {\n",
       "        vertical-align: top;\n",
       "    }\n",
       "\n",
       "    .dataframe thead th {\n",
       "        text-align: right;\n",
       "    }\n",
       "</style>\n",
       "<table border=\"1\" class=\"dataframe\">\n",
       "  <thead>\n",
       "    <tr style=\"text-align: right;\">\n",
       "      <th></th>\n",
       "      <th>Open</th>\n",
       "      <th>High</th>\n",
       "      <th>Low</th>\n",
       "      <th>Volume</th>\n",
       "    </tr>\n",
       "  </thead>\n",
       "  <tbody>\n",
       "    <tr>\n",
       "      <th>count</th>\n",
       "      <td>421.000000</td>\n",
       "      <td>421.000000</td>\n",
       "      <td>421.000000</td>\n",
       "      <td>421.000000</td>\n",
       "    </tr>\n",
       "    <tr>\n",
       "      <th>mean</th>\n",
       "      <td>0.372409</td>\n",
       "      <td>0.374434</td>\n",
       "      <td>0.373457</td>\n",
       "      <td>0.117439</td>\n",
       "    </tr>\n",
       "    <tr>\n",
       "      <th>std</th>\n",
       "      <td>0.175834</td>\n",
       "      <td>0.171931</td>\n",
       "      <td>0.171432</td>\n",
       "      <td>0.084973</td>\n",
       "    </tr>\n",
       "    <tr>\n",
       "      <th>min</th>\n",
       "      <td>0.000000</td>\n",
       "      <td>0.000000</td>\n",
       "      <td>0.000000</td>\n",
       "      <td>0.000000</td>\n",
       "    </tr>\n",
       "    <tr>\n",
       "      <th>25%</th>\n",
       "      <td>0.262729</td>\n",
       "      <td>0.267857</td>\n",
       "      <td>0.269618</td>\n",
       "      <td>0.064016</td>\n",
       "    </tr>\n",
       "    <tr>\n",
       "      <th>50%</th>\n",
       "      <td>0.350305</td>\n",
       "      <td>0.349206</td>\n",
       "      <td>0.352113</td>\n",
       "      <td>0.101418</td>\n",
       "    </tr>\n",
       "    <tr>\n",
       "      <th>75%</th>\n",
       "      <td>0.443992</td>\n",
       "      <td>0.452381</td>\n",
       "      <td>0.444668</td>\n",
       "      <td>0.146095</td>\n",
       "    </tr>\n",
       "    <tr>\n",
       "      <th>max</th>\n",
       "      <td>1.000000</td>\n",
       "      <td>1.000000</td>\n",
       "      <td>1.000000</td>\n",
       "      <td>1.000000</td>\n",
       "    </tr>\n",
       "  </tbody>\n",
       "</table>\n",
       "</div>"
      ],
      "text/plain": [
       "             Open        High         Low      Volume\n",
       "count  421.000000  421.000000  421.000000  421.000000\n",
       "mean     0.372409    0.374434    0.373457    0.117439\n",
       "std      0.175834    0.171931    0.171432    0.084973\n",
       "min      0.000000    0.000000    0.000000    0.000000\n",
       "25%      0.262729    0.267857    0.269618    0.064016\n",
       "50%      0.350305    0.349206    0.352113    0.101418\n",
       "75%      0.443992    0.452381    0.444668    0.146095\n",
       "max      1.000000    1.000000    1.000000    1.000000"
      ]
     },
     "execution_count": 6,
     "metadata": {},
     "output_type": "execute_result"
    }
   ],
   "source": [
    "dfx.describe()"
   ]
  },
  {
   "cell_type": "code",
   "execution_count": 7,
   "metadata": {},
   "outputs": [
    {
     "data": {
      "text/html": [
       "<div>\n",
       "<style scoped>\n",
       "    .dataframe tbody tr th:only-of-type {\n",
       "        vertical-align: middle;\n",
       "    }\n",
       "\n",
       "    .dataframe tbody tr th {\n",
       "        vertical-align: top;\n",
       "    }\n",
       "\n",
       "    .dataframe thead th {\n",
       "        text-align: right;\n",
       "    }\n",
       "</style>\n",
       "<table border=\"1\" class=\"dataframe\">\n",
       "  <thead>\n",
       "    <tr style=\"text-align: right;\">\n",
       "      <th></th>\n",
       "      <th>Close</th>\n",
       "    </tr>\n",
       "    <tr>\n",
       "      <th>Date</th>\n",
       "      <th></th>\n",
       "    </tr>\n",
       "  </thead>\n",
       "  <tbody>\n",
       "    <tr>\n",
       "      <th>2018-05-04</th>\n",
       "      <td>0.579158</td>\n",
       "    </tr>\n",
       "    <tr>\n",
       "      <th>2018-05-08</th>\n",
       "      <td>0.607214</td>\n",
       "    </tr>\n",
       "    <tr>\n",
       "      <th>2018-05-09</th>\n",
       "      <td>0.539078</td>\n",
       "    </tr>\n",
       "    <tr>\n",
       "      <th>2018-05-10</th>\n",
       "      <td>0.567134</td>\n",
       "    </tr>\n",
       "    <tr>\n",
       "      <th>2018-05-11</th>\n",
       "      <td>0.555110</td>\n",
       "    </tr>\n",
       "  </tbody>\n",
       "</table>\n",
       "</div>"
      ],
      "text/plain": [
       "               Close\n",
       "Date                \n",
       "2018-05-04  0.579158\n",
       "2018-05-08  0.607214\n",
       "2018-05-09  0.539078\n",
       "2018-05-10  0.567134\n",
       "2018-05-11  0.555110"
      ]
     },
     "execution_count": 7,
     "metadata": {},
     "output_type": "execute_result"
    }
   ],
   "source": [
    "dfy.head()"
   ]
  },
  {
   "cell_type": "code",
   "execution_count": 8,
   "metadata": {},
   "outputs": [],
   "source": [
    "X = dfx.values.tolist()\n",
    "y = dfy.values.tolist()\n",
    "# 리스트 형태로 저장"
   ]
  },
  {
   "cell_type": "code",
   "execution_count": 9,
   "metadata": {},
   "outputs": [],
   "source": [
    "window_size = 10\n",
    "# 이전 10일까지의 주가로 다음날의 종가를 예측"
   ]
  },
  {
   "cell_type": "code",
   "execution_count": 10,
   "metadata": {},
   "outputs": [],
   "source": [
    "data_X = []\n",
    "data_y = []\n",
    "for i in range(len(y) - window_size):\n",
    "    _X = X[i : i + window_size] # 다음 날 종가(i+windows_size)는 포함되지 않음\n",
    "    _y = y[i + window_size]     # 다음 날 종가\n",
    "    data_X.append(_X)\n",
    "    data_y.append(_y)"
   ]
  },
  {
   "cell_type": "code",
   "execution_count": 11,
   "metadata": {},
   "outputs": [
    {
     "data": {
      "text/plain": [
       "[[0.6334012219933466,\n",
       "  0.64682539682283,\n",
       "  0.6016096579452651,\n",
       "  0.5950598479352758],\n",
       " [0.6171079429710097,\n",
       "  0.6190476190451625,\n",
       "  0.6056338028144642,\n",
       "  0.3164647972944813],\n",
       " [0.6171079429710097,\n",
       "  0.6031746031722096,\n",
       "  0.5653923541224732,\n",
       "  0.19838973885875907],\n",
       " [0.5804480651707518,\n",
       "  0.5595238095215892,\n",
       "  0.5533199195148759,\n",
       "  0.16076499691679247],\n",
       " [0.5926680244375044,\n",
       "  0.5793650793627803,\n",
       "  0.5774647887300706,\n",
       "  0.10000013878410015],\n",
       " [0.5519348268816622,\n",
       "  0.5357142857121598,\n",
       "  0.5251509054304823,\n",
       "  0.17775773908379244],\n",
       " [0.5193482688369884,\n",
       "  0.5079365079344923,\n",
       "  0.4929577464768895,\n",
       "  0.24207018961868487],\n",
       " [0.47861507128114616,\n",
       "  0.49999999999801586,\n",
       "  0.49496981891148906,\n",
       "  0.19484190950809502],\n",
       " [0.5234215885925726,\n",
       "  0.5119047619027305,\n",
       "  0.5050301810844868,\n",
       "  0.100853881024588],\n",
       " [0.5071283095702357,\n",
       "  0.4880952380933012,\n",
       "  0.5030181086498873,\n",
       "  0.03892790771899896]]"
      ]
     },
     "execution_count": 11,
     "metadata": {},
     "output_type": "execute_result"
    }
   ],
   "source": [
    "# 10일간의 OHLVC 데이터\n",
    "data_X[0]"
   ]
  },
  {
   "cell_type": "code",
   "execution_count": 13,
   "metadata": {},
   "outputs": [
    {
     "data": {
      "text/plain": [
       "[0.503006012022032]"
      ]
     },
     "execution_count": 13,
     "metadata": {},
     "output_type": "execute_result"
    }
   ],
   "source": [
    "data_y[0]"
   ]
  },
  {
   "cell_type": "code",
   "execution_count": 14,
   "metadata": {},
   "outputs": [
    {
     "name": "stdout",
     "output_type": "stream",
     "text": [
      "전체 데이터의 크기 : 411 411\n"
     ]
    }
   ],
   "source": [
    "print('전체 데이터의 크기 :', len(data_X), len(data_y))\n"
   ]
  },
  {
   "cell_type": "code",
   "execution_count": 15,
   "metadata": {},
   "outputs": [],
   "source": [
    "train_size = int(len(data_y) * 0.7)\n",
    "train_X = np.array(data_X[0 : train_size])\n",
    "train_y = np.array(data_y[0 : train_size])\n",
    "\n",
    "test_size = len(data_y) - train_size\n",
    "test_X = np.array(data_X[train_size : len(data_X)])\n",
    "test_y = np.array(data_y[train_size : len(data_y)])\n",
    "# 훈련/테스트 데이터 분리"
   ]
  },
  {
   "cell_type": "code",
   "execution_count": 16,
   "metadata": {},
   "outputs": [
    {
     "name": "stdout",
     "output_type": "stream",
     "text": [
      "훈련 데이터의 크기 : (287, 10, 4) (287, 1)\n",
      "테스트 데이터의 크기 : (124, 10, 4) (124, 1)\n"
     ]
    }
   ],
   "source": [
    "print('훈련 데이터의 크기 :', train_X.shape, train_y.shape)\n",
    "print('테스트 데이터의 크기 :', test_X.shape, test_y.shape)"
   ]
  },
  {
   "cell_type": "code",
   "execution_count": 18,
   "metadata": {},
   "outputs": [
    {
     "name": "stdout",
     "output_type": "stream",
     "text": [
      "Collecting tensorflow\n",
      "  Downloading tensorflow-2.13.0-cp310-cp310-win_amd64.whl (1.9 kB)\n",
      "Collecting tensorflow-intel==2.13.0\n",
      "  Downloading tensorflow_intel-2.13.0-cp310-cp310-win_amd64.whl (276.5 MB)\n",
      "     -------------------------------------- 276.5/276.5 MB 1.7 MB/s eta 0:00:00\n",
      "Requirement already satisfied: typing-extensions<4.6.0,>=3.6.6 in c:\\users\\user\\appdata\\local\\programs\\python\\python310\\lib\\site-packages (from tensorflow-intel==2.13.0->tensorflow) (4.2.0)\n",
      "Collecting astunparse>=1.6.0\n",
      "  Using cached astunparse-1.6.3-py2.py3-none-any.whl (12 kB)\n",
      "Collecting gast<=0.4.0,>=0.2.1\n",
      "  Using cached gast-0.4.0-py3-none-any.whl (9.8 kB)\n",
      "Collecting tensorflow-estimator<2.14,>=2.13.0\n",
      "  Downloading tensorflow_estimator-2.13.0-py2.py3-none-any.whl (440 kB)\n",
      "     -------------------------------------- 440.8/440.8 kB 2.8 MB/s eta 0:00:00\n",
      "Collecting tensorflow-io-gcs-filesystem>=0.23.1\n",
      "  Downloading tensorflow_io_gcs_filesystem-0.31.0-cp310-cp310-win_amd64.whl (1.5 MB)\n",
      "     ---------------------------------------- 1.5/1.5 MB 2.3 MB/s eta 0:00:00\n",
      "Collecting flatbuffers>=23.1.21\n",
      "  Downloading flatbuffers-23.5.26-py2.py3-none-any.whl (26 kB)\n",
      "Requirement already satisfied: numpy<=1.24.3,>=1.22 in c:\\users\\user\\appdata\\roaming\\python\\python310\\site-packages (from tensorflow-intel==2.13.0->tensorflow) (1.24.2)\n",
      "Requirement already satisfied: setuptools in c:\\users\\user\\appdata\\local\\programs\\python\\python310\\lib\\site-packages (from tensorflow-intel==2.13.0->tensorflow) (57.4.0)\n",
      "Requirement already satisfied: six>=1.12.0 in c:\\users\\user\\appdata\\local\\programs\\python\\python310\\lib\\site-packages (from tensorflow-intel==2.13.0->tensorflow) (1.16.0)\n",
      "Collecting tensorboard<2.14,>=2.13\n",
      "  Downloading tensorboard-2.13.0-py3-none-any.whl (5.6 MB)\n",
      "     ---------------------------------------- 5.6/5.6 MB 2.7 MB/s eta 0:00:00\n",
      "Collecting wrapt>=1.11.0\n",
      "  Downloading wrapt-1.15.0-cp310-cp310-win_amd64.whl (36 kB)\n",
      "Collecting opt-einsum>=2.3.2\n",
      "  Using cached opt_einsum-3.3.0-py3-none-any.whl (65 kB)\n",
      "Collecting google-pasta>=0.1.1\n",
      "  Using cached google_pasta-0.2.0-py3-none-any.whl (57 kB)\n",
      "Collecting termcolor>=1.1.0\n",
      "  Downloading termcolor-2.3.0-py3-none-any.whl (6.9 kB)\n",
      "Collecting keras<2.14,>=2.13.1\n",
      "  Downloading keras-2.13.1-py3-none-any.whl (1.7 MB)\n",
      "     ---------------------------------------- 1.7/1.7 MB 1.6 MB/s eta 0:00:00\n",
      "Requirement already satisfied: packaging in c:\\users\\user\\appdata\\local\\programs\\python\\python310\\lib\\site-packages (from tensorflow-intel==2.13.0->tensorflow) (21.3)\n",
      "Collecting absl-py>=1.0.0\n",
      "  Downloading absl_py-2.0.0-py3-none-any.whl (130 kB)\n",
      "     -------------------------------------- 130.2/130.2 kB 2.6 MB/s eta 0:00:00\n",
      "Collecting libclang>=13.0.0\n",
      "  Downloading libclang-16.0.6-py2.py3-none-win_amd64.whl (24.4 MB)\n",
      "     ---------------------------------------- 24.4/24.4 MB 3.2 MB/s eta 0:00:00\n",
      "Collecting protobuf!=4.21.0,!=4.21.1,!=4.21.2,!=4.21.3,!=4.21.4,!=4.21.5,<5.0.0dev,>=3.20.3\n",
      "  Downloading protobuf-4.24.3-cp310-abi3-win_amd64.whl (430 kB)\n",
      "     -------------------------------------- 430.5/430.5 kB 1.9 MB/s eta 0:00:00\n",
      "Collecting h5py>=2.9.0\n",
      "  Downloading h5py-3.9.0-cp310-cp310-win_amd64.whl (2.7 MB)\n",
      "     ---------------------------------------- 2.7/2.7 MB 2.2 MB/s eta 0:00:00\n",
      "Collecting grpcio<2.0,>=1.24.3\n",
      "  Downloading grpcio-1.58.0-cp310-cp310-win_amd64.whl (4.3 MB)\n",
      "     ---------------------------------------- 4.3/4.3 MB 3.3 MB/s eta 0:00:00\n",
      "Collecting wheel<1.0,>=0.23.0\n",
      "  Downloading wheel-0.41.2-py3-none-any.whl (64 kB)\n",
      "     ---------------------------------------- 64.8/64.8 kB 3.4 MB/s eta 0:00:00\n",
      "Requirement already satisfied: requests<3,>=2.21.0 in c:\\users\\user\\appdata\\local\\programs\\python\\python310\\lib\\site-packages (from tensorboard<2.14,>=2.13->tensorflow-intel==2.13.0->tensorflow) (2.27.1)\n",
      "Collecting google-auth-oauthlib<1.1,>=0.5\n",
      "  Downloading google_auth_oauthlib-1.0.0-py2.py3-none-any.whl (18 kB)\n",
      "Collecting markdown>=2.6.8\n",
      "  Downloading Markdown-3.4.4-py3-none-any.whl (94 kB)\n",
      "     ---------------------------------------- 94.2/94.2 kB 2.7 MB/s eta 0:00:00\n",
      "Collecting tensorboard-data-server<0.8.0,>=0.7.0\n",
      "  Downloading tensorboard_data_server-0.7.1-py3-none-any.whl (2.4 kB)\n",
      "Collecting google-auth<3,>=1.6.3\n",
      "  Downloading google_auth-2.23.0-py2.py3-none-any.whl (181 kB)\n",
      "     ------------------------------------- 181.4/181.4 kB 11.4 MB/s eta 0:00:00\n",
      "Collecting werkzeug>=1.0.1\n",
      "  Downloading werkzeug-2.3.7-py3-none-any.whl (242 kB)\n",
      "     -------------------------------------- 242.2/242.2 kB 7.5 MB/s eta 0:00:00\n",
      "Requirement already satisfied: pyparsing!=3.0.5,>=2.0.2 in c:\\users\\user\\appdata\\local\\programs\\python\\python310\\lib\\site-packages (from packaging->tensorflow-intel==2.13.0->tensorflow) (3.0.9)\n",
      "Collecting pyasn1-modules>=0.2.1\n",
      "  Downloading pyasn1_modules-0.3.0-py2.py3-none-any.whl (181 kB)\n",
      "     -------------------------------------- 181.3/181.3 kB 5.3 MB/s eta 0:00:00\n",
      "Collecting rsa<5,>=3.1.4\n",
      "  Using cached rsa-4.9-py3-none-any.whl (34 kB)\n",
      "Requirement already satisfied: urllib3<2.0 in c:\\users\\user\\appdata\\local\\programs\\python\\python310\\lib\\site-packages (from google-auth<3,>=1.6.3->tensorboard<2.14,>=2.13->tensorflow-intel==2.13.0->tensorflow) (1.26.9)\n",
      "Requirement already satisfied: cachetools<6.0,>=2.0.0 in c:\\users\\user\\appdata\\local\\programs\\python\\python310\\lib\\site-packages (from google-auth<3,>=1.6.3->tensorboard<2.14,>=2.13->tensorflow-intel==2.13.0->tensorflow) (5.1.0)\n",
      "Collecting requests-oauthlib>=0.7.0\n",
      "  Using cached requests_oauthlib-1.3.1-py2.py3-none-any.whl (23 kB)\n",
      "Requirement already satisfied: certifi>=2017.4.17 in c:\\users\\user\\appdata\\local\\programs\\python\\python310\\lib\\site-packages (from requests<3,>=2.21.0->tensorboard<2.14,>=2.13->tensorflow-intel==2.13.0->tensorflow) (2021.10.8)\n",
      "Requirement already satisfied: charset-normalizer~=2.0.0 in c:\\users\\user\\appdata\\local\\programs\\python\\python310\\lib\\site-packages (from requests<3,>=2.21.0->tensorboard<2.14,>=2.13->tensorflow-intel==2.13.0->tensorflow) (2.0.12)\n",
      "Requirement already satisfied: idna<4,>=2.5 in c:\\users\\user\\appdata\\local\\programs\\python\\python310\\lib\\site-packages (from requests<3,>=2.21.0->tensorboard<2.14,>=2.13->tensorflow-intel==2.13.0->tensorflow) (3.3)\n",
      "Collecting MarkupSafe>=2.1.1\n",
      "  Downloading MarkupSafe-2.1.3-cp310-cp310-win_amd64.whl (17 kB)\n",
      "Collecting pyasn1<0.6.0,>=0.4.6\n",
      "  Downloading pyasn1-0.5.0-py2.py3-none-any.whl (83 kB)\n",
      "     ---------------------------------------- 83.9/83.9 kB 2.3 MB/s eta 0:00:00\n",
      "Collecting oauthlib>=3.0.0\n",
      "  Using cached oauthlib-3.2.2-py3-none-any.whl (151 kB)\n",
      "Installing collected packages: libclang, flatbuffers, wrapt, wheel, termcolor, tensorflow-io-gcs-filesystem, tensorflow-estimator, tensorboard-data-server, pyasn1, protobuf, opt-einsum, oauthlib, MarkupSafe, markdown, keras, h5py, grpcio, google-pasta, gast, absl-py, werkzeug, rsa, requests-oauthlib, pyasn1-modules, astunparse, google-auth, google-auth-oauthlib, tensorboard, tensorflow-intel, tensorflow\n",
      "  Attempting uninstall: protobuf\n",
      "    Found existing installation: protobuf 3.20.1\n",
      "    Uninstalling protobuf-3.20.1:\n",
      "      Successfully uninstalled protobuf-3.20.1\n",
      "  Attempting uninstall: MarkupSafe\n",
      "    Found existing installation: MarkupSafe 2.0.1\n",
      "    Uninstalling MarkupSafe-2.0.1:\n",
      "      Successfully uninstalled MarkupSafe-2.0.1\n",
      "Successfully installed MarkupSafe-2.1.3 absl-py-2.0.0 astunparse-1.6.3 flatbuffers-23.5.26 gast-0.4.0 google-auth-2.23.0 google-auth-oauthlib-1.0.0 google-pasta-0.2.0 grpcio-1.58.0 h5py-3.9.0 keras-2.13.1 libclang-16.0.6 markdown-3.4.4 oauthlib-3.2.2 opt-einsum-3.3.0 protobuf-4.24.3 pyasn1-0.5.0 pyasn1-modules-0.3.0 requests-oauthlib-1.3.1 rsa-4.9 tensorboard-2.13.0 tensorboard-data-server-0.7.1 tensorflow-2.13.0 tensorflow-estimator-2.13.0 tensorflow-intel-2.13.0 tensorflow-io-gcs-filesystem-0.31.0 termcolor-2.3.0 werkzeug-2.3.7 wheel-0.41.2 wrapt-1.15.0\n"
     ]
    },
    {
     "name": "stderr",
     "output_type": "stream",
     "text": [
      "ERROR: pip's dependency resolver does not currently take into account all the packages that are installed. This behaviour is the source of the following dependency conflicts.\n",
      "pandas-profiling 3.1.0 requires joblib~=1.0.1, but you have joblib 1.3.1 which is incompatible.\n",
      "pandas-profiling 3.1.0 requires markupsafe~=2.0.1, but you have markupsafe 2.1.3 which is incompatible.\n",
      "mysql-connector-python 8.0.30 requires protobuf<=3.20.1,>=3.11.0, but you have protobuf 4.24.3 which is incompatible.\n",
      "\n",
      "[notice] A new release of pip available: 22.3.1 -> 23.2.1\n",
      "[notice] To update, run: python.exe -m pip install --upgrade pip\n"
     ]
    }
   ],
   "source": [
    "!pip install tensorflow"
   ]
  },
  {
   "cell_type": "code",
   "execution_count": 19,
   "metadata": {},
   "outputs": [],
   "source": [
    "from tensorflow.keras import Sequential\n",
    "from tensorflow.keras.layers import Dense, LSTM, Dropout\n",
    "# lstm 불러오기"
   ]
  },
  {
   "cell_type": "code",
   "execution_count": 20,
   "metadata": {},
   "outputs": [
    {
     "name": "stdout",
     "output_type": "stream",
     "text": [
      "Model: \"sequential\"\n",
      "_________________________________________________________________\n",
      " Layer (type)                Output Shape              Param #   \n",
      "=================================================================\n",
      " lstm (LSTM)                 (None, 10, 20)            2000      \n",
      "                                                                 \n",
      " dropout (Dropout)           (None, 10, 20)            0         \n",
      "                                                                 \n",
      " lstm_1 (LSTM)               (None, 20)                3280      \n",
      "                                                                 \n",
      " dropout_1 (Dropout)         (None, 20)                0         \n",
      "                                                                 \n",
      " dense (Dense)               (None, 1)                 21        \n",
      "                                                                 \n",
      "=================================================================\n",
      "Total params: 5301 (20.71 KB)\n",
      "Trainable params: 5301 (20.71 KB)\n",
      "Non-trainable params: 0 (0.00 Byte)\n",
      "_________________________________________________________________\n"
     ]
    }
   ],
   "source": [
    "model = Sequential()\n",
    "model.add(LSTM(units=20, activation='relu', return_sequences=True, input_shape=(10, 4)))\n",
    "model.add(Dropout(0.1)) # 10% 삭제\n",
    "model.add(LSTM(units=20, activation='relu'))\n",
    "model.add(Dropout(0.1))\n",
    "model.add(Dense(units=1))\n",
    "model.summary() "
   ]
  },
  {
   "cell_type": "code",
   "execution_count": 21,
   "metadata": {},
   "outputs": [
    {
     "name": "stdout",
     "output_type": "stream",
     "text": [
      "Epoch 1/70\n",
      "10/10 [==============================] - 6s 26ms/step - loss: 0.0621\n",
      "Epoch 2/70\n",
      "10/10 [==============================] - 0s 40ms/step - loss: 0.0228\n",
      "Epoch 3/70\n",
      "10/10 [==============================] - 0s 17ms/step - loss: 0.0073\n",
      "Epoch 4/70\n",
      "10/10 [==============================] - 0s 18ms/step - loss: 0.0074\n",
      "Epoch 5/70\n",
      "10/10 [==============================] - 0s 16ms/step - loss: 0.0054\n",
      "Epoch 6/70\n",
      "10/10 [==============================] - 0s 17ms/step - loss: 0.0052\n",
      "Epoch 7/70\n",
      "10/10 [==============================] - 0s 15ms/step - loss: 0.0054\n",
      "Epoch 8/70\n",
      "10/10 [==============================] - 0s 18ms/step - loss: 0.0052\n",
      "Epoch 9/70\n",
      "10/10 [==============================] - 0s 26ms/step - loss: 0.0050\n",
      "Epoch 10/70\n",
      "10/10 [==============================] - 0s 16ms/step - loss: 0.0047\n",
      "Epoch 11/70\n",
      "10/10 [==============================] - 0s 16ms/step - loss: 0.0043\n",
      "Epoch 12/70\n",
      "10/10 [==============================] - 0s 19ms/step - loss: 0.0047\n",
      "Epoch 13/70\n",
      "10/10 [==============================] - 0s 27ms/step - loss: 0.0045\n",
      "Epoch 14/70\n",
      "10/10 [==============================] - 0s 25ms/step - loss: 0.0053\n",
      "Epoch 15/70\n",
      "10/10 [==============================] - 0s 23ms/step - loss: 0.0044\n",
      "Epoch 16/70\n",
      "10/10 [==============================] - 0s 26ms/step - loss: 0.0043\n",
      "Epoch 17/70\n",
      "10/10 [==============================] - 0s 26ms/step - loss: 0.0042\n",
      "Epoch 18/70\n",
      "10/10 [==============================] - 0s 16ms/step - loss: 0.0044\n",
      "Epoch 19/70\n",
      "10/10 [==============================] - 0s 31ms/step - loss: 0.0044\n",
      "Epoch 20/70\n",
      "10/10 [==============================] - 0s 15ms/step - loss: 0.0041\n",
      "Epoch 21/70\n",
      "10/10 [==============================] - 0s 13ms/step - loss: 0.0042\n",
      "Epoch 22/70\n",
      "10/10 [==============================] - 0s 15ms/step - loss: 0.0042\n",
      "Epoch 23/70\n",
      "10/10 [==============================] - 0s 14ms/step - loss: 0.0041\n",
      "Epoch 24/70\n",
      "10/10 [==============================] - 0s 12ms/step - loss: 0.0040\n",
      "Epoch 25/70\n",
      "10/10 [==============================] - 0s 15ms/step - loss: 0.0037\n",
      "Epoch 26/70\n",
      "10/10 [==============================] - 0s 16ms/step - loss: 0.0039\n",
      "Epoch 27/70\n",
      "10/10 [==============================] - 0s 13ms/step - loss: 0.0040\n",
      "Epoch 28/70\n",
      "10/10 [==============================] - 0s 16ms/step - loss: 0.0038\n",
      "Epoch 29/70\n",
      "10/10 [==============================] - 0s 34ms/step - loss: 0.0038\n",
      "Epoch 30/70\n",
      "10/10 [==============================] - 0s 13ms/step - loss: 0.0036\n",
      "Epoch 31/70\n",
      "10/10 [==============================] - 0s 19ms/step - loss: 0.0040\n",
      "Epoch 32/70\n",
      "10/10 [==============================] - 0s 15ms/step - loss: 0.0037\n",
      "Epoch 33/70\n",
      "10/10 [==============================] - 0s 14ms/step - loss: 0.0038\n",
      "Epoch 34/70\n",
      "10/10 [==============================] - 0s 15ms/step - loss: 0.0037\n",
      "Epoch 35/70\n",
      "10/10 [==============================] - 0s 14ms/step - loss: 0.0035\n",
      "Epoch 36/70\n",
      "10/10 [==============================] - 0s 20ms/step - loss: 0.0034\n",
      "Epoch 37/70\n",
      "10/10 [==============================] - 0s 13ms/step - loss: 0.0039\n",
      "Epoch 38/70\n",
      "10/10 [==============================] - 0s 15ms/step - loss: 0.0032\n",
      "Epoch 39/70\n",
      "10/10 [==============================] - 0s 23ms/step - loss: 0.0034\n",
      "Epoch 40/70\n",
      "10/10 [==============================] - 0s 22ms/step - loss: 0.0033\n",
      "Epoch 41/70\n",
      "10/10 [==============================] - 0s 26ms/step - loss: 0.0032\n",
      "Epoch 42/70\n",
      "10/10 [==============================] - 0s 23ms/step - loss: 0.0035\n",
      "Epoch 43/70\n",
      "10/10 [==============================] - 0s 17ms/step - loss: 0.0035\n",
      "Epoch 44/70\n",
      "10/10 [==============================] - 0s 18ms/step - loss: 0.0033\n",
      "Epoch 45/70\n",
      "10/10 [==============================] - 0s 19ms/step - loss: 0.0029\n",
      "Epoch 46/70\n",
      "10/10 [==============================] - 0s 19ms/step - loss: 0.0033\n",
      "Epoch 47/70\n",
      "10/10 [==============================] - 0s 22ms/step - loss: 0.0032\n",
      "Epoch 48/70\n",
      "10/10 [==============================] - 0s 19ms/step - loss: 0.0035\n",
      "Epoch 49/70\n",
      "10/10 [==============================] - 0s 22ms/step - loss: 0.0033\n",
      "Epoch 50/70\n",
      "10/10 [==============================] - 0s 21ms/step - loss: 0.0033\n",
      "Epoch 51/70\n",
      "10/10 [==============================] - 0s 20ms/step - loss: 0.0029\n",
      "Epoch 52/70\n",
      "10/10 [==============================] - 0s 28ms/step - loss: 0.0025\n",
      "Epoch 53/70\n",
      "10/10 [==============================] - 0s 20ms/step - loss: 0.0033\n",
      "Epoch 54/70\n",
      "10/10 [==============================] - 0s 24ms/step - loss: 0.0028\n",
      "Epoch 55/70\n",
      "10/10 [==============================] - 0s 19ms/step - loss: 0.0031\n",
      "Epoch 56/70\n",
      "10/10 [==============================] - 0s 20ms/step - loss: 0.0029\n",
      "Epoch 57/70\n",
      "10/10 [==============================] - 0s 30ms/step - loss: 0.0031\n",
      "Epoch 58/70\n",
      "10/10 [==============================] - 0s 27ms/step - loss: 0.0028\n",
      "Epoch 59/70\n",
      "10/10 [==============================] - 0s 27ms/step - loss: 0.0030\n",
      "Epoch 60/70\n",
      "10/10 [==============================] - 0s 27ms/step - loss: 0.0029\n",
      "Epoch 61/70\n",
      "10/10 [==============================] - 0s 28ms/step - loss: 0.0030\n",
      "Epoch 62/70\n",
      "10/10 [==============================] - 0s 27ms/step - loss: 0.0034\n",
      "Epoch 63/70\n",
      "10/10 [==============================] - 0s 18ms/step - loss: 0.0028\n",
      "Epoch 64/70\n",
      "10/10 [==============================] - 0s 22ms/step - loss: 0.0031\n",
      "Epoch 65/70\n",
      "10/10 [==============================] - 0s 34ms/step - loss: 0.0029\n",
      "Epoch 66/70\n",
      "10/10 [==============================] - 0s 20ms/step - loss: 0.0026\n",
      "Epoch 67/70\n",
      "10/10 [==============================] - 0s 21ms/step - loss: 0.0026\n",
      "Epoch 68/70\n",
      "10/10 [==============================] - 0s 23ms/step - loss: 0.0026\n",
      "Epoch 69/70\n",
      "10/10 [==============================] - 0s 21ms/step - loss: 0.0026\n",
      "Epoch 70/70\n",
      "10/10 [==============================] - 0s 18ms/step - loss: 0.0026\n",
      "4/4 [==============================] - 1s 7ms/step\n"
     ]
    }
   ],
   "source": [
    "model.compile(optimizer='adam', loss='mean_squared_error')\n",
    "model.fit(train_X, train_y, epochs=70, batch_size=30)\n",
    "pred_y = model.predict(test_X)\n",
    "# loss 값 줄이기"
   ]
  },
  {
   "cell_type": "code",
   "execution_count": 22,
   "metadata": {},
   "outputs": [
    {
     "data": {
      "image/png": "[encoded data removed]",
      "text/plain": [
       "<Figure size 432x288 with 1 Axes>"
      ]
     },
     "metadata": {
      "needs_background": "light"
     },
     "output_type": "display_data"
    },
    {
     "name": "stdout",
     "output_type": "stream",
     "text": [
      "Tomorrow's SEC price : [60177.58] KRW\n"
     ]
    }
   ],
   "source": [
    "# Visualising the results\n",
    "plt.figure()\n",
    "plt.plot(test_y, color='red', label='real SEC stock price')\n",
    "plt.plot(pred_y, color='blue', label='predicted SEC stock price')\n",
    "plt.title('SEC stock price prediction')\n",
    "plt.xlabel('time')\n",
    "plt.ylabel('stock price')\n",
    "plt.legend()\n",
    "plt.show()\n",
    "\n",
    "# raw_df.close[-1] : dfy.close[-1] = x : pred_y[-1]\n",
    "print(\"Tomorrow's SEC price :\", df.Close[-1] * pred_y[-1] / dfy.Close[-1], 'KRW')"
   ]
  },
  {
   "cell_type": "code",
   "execution_count": null,
   "metadata": {},
   "outputs": [],
   "source": []
  },
  {
   "cell_type": "code",
   "execution_count": null,
   "metadata": {},
   "outputs": [],
   "source": []
  }
 ],
 "metadata": {
  "kernelspec": {
   "display_name": "Python 3",
   "language": "python",
   "name": "python3"
  },
  "language_info": {
   "codemirror_mode": {
    "name": "ipython",
    "version": 3
   },
   "file_extension": ".py",
   "mimetype": "text/x-python",
   "name": "python",
   "nbconvert_exporter": "python",
   "pygments_lexer": "ipython3",
   "version": "3.10.0"
  },
  "orig_nbformat": 4
 },
 "nbformat": 4,
 "nbformat_minor": 2
}
